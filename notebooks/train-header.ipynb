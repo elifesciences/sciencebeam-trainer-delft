{
 "cells": [
  {
   "cell_type": "markdown",
   "metadata": {},
   "source": [
    "# Example: Train DeLFT GROBID Model\n",
    "\n",
    "This notebook demonstrates training the GROBID header model using (and extention of) DeLFT."
   ]
  },
  {
   "cell_type": "markdown",
   "metadata": {},
   "source": [
    "## Install Dependencies"
   ]
  },
  {
   "cell_type": "code",
   "execution_count": null,
   "metadata": {},
   "outputs": [],
   "source": [
    "!python -c 'import tensorflow' 2> /dev/null || pip install \"tensorflow==1.15.4\""
   ]
  },
  {
   "cell_type": "code",
   "execution_count": null,
   "metadata": {},
   "outputs": [],
   "source": [
    "!pip install --upgrade git+https://github.com/elifesciences/sciencebeam-trainer-delft.git@develop"
   ]
  },
  {
   "cell_type": "markdown",
   "metadata": {},
   "source": [
    "## Imports"
   ]
  },
  {
   "cell_type": "code",
   "execution_count": null,
   "metadata": {},
   "outputs": [],
   "source": [
    "import os\n",
    "import logging\n",
    "\n",
    "# let's not get carried away with warnings\n",
    "from sciencebeam_trainer_delft.utils.warnings import hide_warnings\n",
    "hide_warnings()\n",
    "\n",
    "import sciencebeam_trainer_delft.sequence_labelling.grobid_trainer"
   ]
  },
  {
   "cell_type": "markdown",
   "metadata": {},
   "source": [
    "## Setup, configure logging"
   ]
  },
  {
   "cell_type": "code",
   "execution_count": null,
   "metadata": {},
   "outputs": [],
   "source": [
    "logging.basicConfig(level='WARN')"
   ]
  },
  {
   "cell_type": "markdown",
   "metadata": {},
   "source": [
    "## Train the model"
   ]
  },
  {
   "cell_type": "code",
   "execution_count": null,
   "metadata": {},
   "outputs": [],
   "source": [
    "sciencebeam_trainer_delft.sequence_labelling.grobid_trainer.main([\n",
    "    'header',\n",
    "    'train_eval',\n",
    "    '--batch-size=5',\n",
    "    '--max-epoch=1',\n",
    "    '--use-features',\n",
    "    '--feature-indices=9-30',\n",
    "    '--architecture=CustomBidLSTM_CRF',\n",
    "    '--input=https://github.com/kermitt2/delft/raw/master/data/sequenceLabelling/grobid/header/header-060518.train',\n",
    "    '--embedding=https://github.com/elifesciences/sciencebeam-models/releases/download/v0.0.1/glove.6B.50d.txt.xz'\n",
    "])"
   ]
  }
 ],
 "metadata": {
  "kernelspec": {
   "display_name": "Python 3",
   "language": "python",
   "name": "python3"
  },
  "language_info": {
   "codemirror_mode": {
    "name": "ipython",
    "version": 3
   },
   "file_extension": ".py",
   "mimetype": "text/x-python",
   "name": "python",
   "nbconvert_exporter": "python",
   "pygments_lexer": "ipython3",
   "version": "3.6.6"
  }
 },
 "nbformat": 4,
 "nbformat_minor": 2
}
