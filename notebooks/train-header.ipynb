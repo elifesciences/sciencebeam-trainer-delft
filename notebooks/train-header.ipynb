{
 "cells": [
  {
   "cell_type": "code",
   "execution_count": null,
   "metadata": {},
   "outputs": [],
   "source": [
    "!pip install \"regex>=2018.2.21\" \"keras-bert>=0.39.0\" \"scikit-learn>=0.19.1\" \"lmdb>=0.94\""
   ]
  },
  {
   "cell_type": "code",
   "execution_count": null,
   "metadata": {},
   "outputs": [],
   "source": [
    "!python -c 'import tensorflow' 2> /dev/null || pip install \"tensorflow==1.12.0\""
   ]
  },
  {
   "cell_type": "code",
   "execution_count": null,
   "metadata": {},
   "outputs": [],
   "source": [
    "!pip install delft==0.2.3 --no-deps"
   ]
  },
  {
   "cell_type": "code",
   "execution_count": null,
   "metadata": {},
   "outputs": [],
   "source": [
    "!pip install --upgrade git+https://github.com/elifesciences/sciencebeam-trainer-delft.git@develop --no-deps"
   ]
  },
  {
   "cell_type": "code",
   "execution_count": null,
   "metadata": {},
   "outputs": [],
   "source": [
    "import os\n",
    "\n",
    "import sciencebeam_trainer_delft.grobid_trainer\n",
    "from sciencebeam_trainer_delft.utils import copy_file"
   ]
  },
  {
   "cell_type": "code",
   "execution_count": null,
   "metadata": {},
   "outputs": [],
   "source": [
    "if not os.path.exists('data/sequenceLabelling/grobid/header/header-060518.train'):\n",
    "    copy_file(\n",
    "        'https://github.com/kermitt2/delft/raw/master/data/sequenceLabelling/grobid/header/header-060518.train',\n",
    "        'data/sequenceLabelling/grobid/header/header-060518.train'\n",
    "    )"
   ]
  },
  {
   "cell_type": "code",
   "execution_count": null,
   "metadata": {},
   "outputs": [],
   "source": [
    "sciencebeam_trainer_delft.grobid_trainer.main([\n",
    "    'header',\n",
    "    'train',\n",
    "    '--batch-size=5',\n",
    "    '--max-sequence-length=50',\n",
    "    '--max-epoch=5',\n",
    "    '--embedding=https://github.com/elifesciences/sciencebeam-models/releases/download/v0.0.1/glove.6B.50d.txt.gz'\n",
    "])"
   ]
  }
 ],
 "metadata": {
  "kernelspec": {
   "display_name": "Python 3",
   "language": "python",
   "name": "python3"
  },
  "language_info": {
   "codemirror_mode": {
    "name": "ipython",
    "version": 3
   },
   "file_extension": ".py",
   "mimetype": "text/x-python",
   "name": "python",
   "nbconvert_exporter": "python",
   "pygments_lexer": "ipython3",
   "version": "3.6.6"
  }
 },
 "nbformat": 4,
 "nbformat_minor": 2
}
